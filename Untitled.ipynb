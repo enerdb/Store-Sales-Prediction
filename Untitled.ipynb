{
 "cells": [
  {
   "cell_type": "markdown",
   "id": "83e9b801",
   "metadata": {},
   "source": [
    "Notebook criado para fazer a predição do projeto Rossman do Kagle, acompanhando o desenvolvimento do curso DS em produção.\n"
   ]
  },
  {
   "cell_type": "code",
   "execution_count": null,
   "id": "4a672850",
   "metadata": {},
   "outputs": [],
   "source": []
  }
 ],
 "metadata": {
  "kernelspec": {
   "display_name": "Python 3 (ipykernel)",
   "language": "python",
   "name": "python3"
  },
  "language_info": {
   "codemirror_mode": {
    "name": "ipython",
    "version": 3
   },
   "file_extension": ".py",
   "mimetype": "text/x-python",
   "name": "python",
   "nbconvert_exporter": "python",
   "pygments_lexer": "ipython3",
   "version": "3.8.11"
  }
 },
 "nbformat": 4,
 "nbformat_minor": 5
}

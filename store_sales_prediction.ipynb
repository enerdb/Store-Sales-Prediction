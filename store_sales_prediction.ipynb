{
 "cells": [
  {
   "cell_type": "markdown",
   "id": "155ff54f",
   "metadata": {},
   "source": [
    "# DESCRIÇÃO DO NEGÓCIO"
   ]
  },
  {
   "cell_type": "markdown",
   "id": "5dd866ea",
   "metadata": {},
   "source": [
    "Rossmann operates over 3,000 drug stores in 7 European countries. Currently, Rossmann store managers are tasked with predicting their daily sales for up to six weeks in advance. Store sales are influenced by many factors, including promotions, competition, school and state holidays, seasonality, and locality. With thousands of individual managers predicting sales based on their unique circumstances, the accuracy of results can be quite varied.\n",
    "\n",
    "Submissions are evaluated on the Root Mean Square Percentage Error."
   ]
  },
  {
   "cell_type": "markdown",
   "id": "c0fb7ec3",
   "metadata": {},
   "source": [
    "# 0.0 IMPORTS\n"
   ]
  },
  {
   "cell_type": "code",
   "execution_count": 1,
   "id": "ebffa6e1",
   "metadata": {
    "ExecuteTime": {
     "end_time": "2021-10-22T19:05:34.085731Z",
     "start_time": "2021-10-22T19:05:32.036834Z"
    },
    "scrolled": true
   },
   "outputs": [],
   "source": [
    "from IPython.display       import Image\n",
    "from IPython.core.display  import HTML\n",
    "import warnings\n",
    "\n",
    "import pandas as pd\n",
    "import inflection # biblioteca para padronizar o nome das variaveis\n",
    "import math\n",
    "import numpy as np\n",
    "import scipy.stats as ss\n",
    "\n",
    "from matplotlib            import pyplot as plt\n",
    "import seaborn as sns\n",
    "\n",
    "from sklearn.preprocessing import RobustScaler, MinMaxScaler, LabelEncoder\n",
    "\n",
    "warnings.filterwarnings( 'ignore' )"
   ]
  },
  {
   "cell_type": "markdown",
   "id": "13617b5f",
   "metadata": {},
   "source": [
    "## 0.1 Helper Functions"
   ]
  },
  {
   "cell_type": "code",
   "execution_count": 2,
   "id": "79fdf8d5",
   "metadata": {
    "ExecuteTime": {
     "end_time": "2021-10-22T19:05:34.117647Z",
     "start_time": "2021-10-22T19:05:34.088724Z"
    }
   },
   "outputs": [],
   "source": [
    "def cramer_v(x, y):\n",
    "    cm = pd.crosstab( x, y).values\n",
    "    chi2 = ss.chi2_contingency( cm )[0]\n",
    "    n = cm.sum()\n",
    "    r,k = cm.shape\n",
    "    \n",
    "    chi2corr = max(0, chi2 -(k-1)*(r-1)/(n-1))\n",
    "    kcorr = k - (k-1)**2/(n-1)\n",
    "    rcorr = r - (r-1)**2/(n-1)\n",
    "        \n",
    "    return np.sqrt( (chi2corr/n) / (min(kcorr-1,rcorr-1) ) )\n",
    "\n",
    "def jupyter_settings():\n",
    "    %matplotlib inline\n",
    "    %pylab inline\n",
    "    \n",
    "    plt.style.use( 'bmh' )\n",
    "    plt.rcParams['figure.figsize'] = [25, 12]\n",
    "    plt.rcParams['font.size'] = 24\n",
    "    \n",
    "    display( HTML( '<style>.container { width:100% !important; }</style>') )\n",
    "    pd.options.display.max_columns = None\n",
    "    pd.options.display.max_rows = None\n",
    "    pd.set_option( 'display.expand_frame_repr', False )\n",
    "    \n",
    "    sns.set()"
   ]
  },
  {
   "cell_type": "code",
   "execution_count": 3,
   "id": "1fc8067d",
   "metadata": {
    "ExecuteTime": {
     "end_time": "2021-10-22T19:05:34.149566Z",
     "start_time": "2021-10-22T19:05:34.120639Z"
    }
   },
   "outputs": [
    {
     "name": "stdout",
     "output_type": "stream",
     "text": [
      "Populating the interactive namespace from numpy and matplotlib\n"
     ]
    },
    {
     "data": {
      "text/html": [
       "<style>.container { width:100% !important; }</style>"
      ],
      "text/plain": [
       "<IPython.core.display.HTML object>"
      ]
     },
     "metadata": {},
     "output_type": "display_data"
    }
   ],
   "source": [
    "jupyter_settings()"
   ]
  },
  {
   "cell_type": "markdown",
   "id": "df5fb087",
   "metadata": {},
   "source": [
    "## 0.2 Loading data"
   ]
  },
  {
   "cell_type": "code",
   "execution_count": 4,
   "id": "f43fe9be",
   "metadata": {
    "ExecuteTime": {
     "end_time": "2021-10-22T19:05:35.507961Z",
     "start_time": "2021-10-22T19:05:34.151566Z"
    }
   },
   "outputs": [],
   "source": [
    "df_sales_raw = pd.read_csv(\"data/train.csv\", low_memory=False)\n",
    "df_store_raw = pd.read_csv(\"data/store.csv\", low_memory=False)\n",
    "\n",
    "# merge\n",
    "df_raw = pd.merge(df_sales_raw, df_store_raw, how='left', on='Store')\n"
   ]
  },
  {
   "cell_type": "code",
   "execution_count": 5,
   "id": "79857ca7",
   "metadata": {
    "ExecuteTime": {
     "end_time": "2021-10-22T19:05:35.539845Z",
     "start_time": "2021-10-22T19:05:35.509925Z"
    },
    "scrolled": true
   },
   "outputs": [
    {
     "data": {
      "text/html": [
       "<div>\n",
       "<style scoped>\n",
       "    .dataframe tbody tr th:only-of-type {\n",
       "        vertical-align: middle;\n",
       "    }\n",
       "\n",
       "    .dataframe tbody tr th {\n",
       "        vertical-align: top;\n",
       "    }\n",
       "\n",
       "    .dataframe thead th {\n",
       "        text-align: right;\n",
       "    }\n",
       "</style>\n",
       "<table border=\"1\" class=\"dataframe\">\n",
       "  <thead>\n",
       "    <tr style=\"text-align: right;\">\n",
       "      <th></th>\n",
       "      <th>Store</th>\n",
       "      <th>DayOfWeek</th>\n",
       "      <th>Date</th>\n",
       "      <th>Sales</th>\n",
       "      <th>Customers</th>\n",
       "      <th>Open</th>\n",
       "      <th>Promo</th>\n",
       "      <th>StateHoliday</th>\n",
       "      <th>SchoolHoliday</th>\n",
       "      <th>StoreType</th>\n",
       "      <th>Assortment</th>\n",
       "      <th>CompetitionDistance</th>\n",
       "      <th>CompetitionOpenSinceMonth</th>\n",
       "      <th>CompetitionOpenSinceYear</th>\n",
       "      <th>Promo2</th>\n",
       "      <th>Promo2SinceWeek</th>\n",
       "      <th>Promo2SinceYear</th>\n",
       "      <th>PromoInterval</th>\n",
       "    </tr>\n",
       "  </thead>\n",
       "  <tbody>\n",
       "    <tr>\n",
       "      <th>0</th>\n",
       "      <td>1</td>\n",
       "      <td>5</td>\n",
       "      <td>2015-07-31</td>\n",
       "      <td>5263</td>\n",
       "      <td>555</td>\n",
       "      <td>1</td>\n",
       "      <td>1</td>\n",
       "      <td>0</td>\n",
       "      <td>1</td>\n",
       "      <td>c</td>\n",
       "      <td>a</td>\n",
       "      <td>1270.0</td>\n",
       "      <td>9.0</td>\n",
       "      <td>2008.0</td>\n",
       "      <td>0</td>\n",
       "      <td>NaN</td>\n",
       "      <td>NaN</td>\n",
       "      <td>NaN</td>\n",
       "    </tr>\n",
       "    <tr>\n",
       "      <th>1</th>\n",
       "      <td>2</td>\n",
       "      <td>5</td>\n",
       "      <td>2015-07-31</td>\n",
       "      <td>6064</td>\n",
       "      <td>625</td>\n",
       "      <td>1</td>\n",
       "      <td>1</td>\n",
       "      <td>0</td>\n",
       "      <td>1</td>\n",
       "      <td>a</td>\n",
       "      <td>a</td>\n",
       "      <td>570.0</td>\n",
       "      <td>11.0</td>\n",
       "      <td>2007.0</td>\n",
       "      <td>1</td>\n",
       "      <td>13.0</td>\n",
       "      <td>2010.0</td>\n",
       "      <td>Jan,Apr,Jul,Oct</td>\n",
       "    </tr>\n",
       "    <tr>\n",
       "      <th>2</th>\n",
       "      <td>3</td>\n",
       "      <td>5</td>\n",
       "      <td>2015-07-31</td>\n",
       "      <td>8314</td>\n",
       "      <td>821</td>\n",
       "      <td>1</td>\n",
       "      <td>1</td>\n",
       "      <td>0</td>\n",
       "      <td>1</td>\n",
       "      <td>a</td>\n",
       "      <td>a</td>\n",
       "      <td>14130.0</td>\n",
       "      <td>12.0</td>\n",
       "      <td>2006.0</td>\n",
       "      <td>1</td>\n",
       "      <td>14.0</td>\n",
       "      <td>2011.0</td>\n",
       "      <td>Jan,Apr,Jul,Oct</td>\n",
       "    </tr>\n",
       "    <tr>\n",
       "      <th>3</th>\n",
       "      <td>4</td>\n",
       "      <td>5</td>\n",
       "      <td>2015-07-31</td>\n",
       "      <td>13995</td>\n",
       "      <td>1498</td>\n",
       "      <td>1</td>\n",
       "      <td>1</td>\n",
       "      <td>0</td>\n",
       "      <td>1</td>\n",
       "      <td>c</td>\n",
       "      <td>c</td>\n",
       "      <td>620.0</td>\n",
       "      <td>9.0</td>\n",
       "      <td>2009.0</td>\n",
       "      <td>0</td>\n",
       "      <td>NaN</td>\n",
       "      <td>NaN</td>\n",
       "      <td>NaN</td>\n",
       "    </tr>\n",
       "    <tr>\n",
       "      <th>4</th>\n",
       "      <td>5</td>\n",
       "      <td>5</td>\n",
       "      <td>2015-07-31</td>\n",
       "      <td>4822</td>\n",
       "      <td>559</td>\n",
       "      <td>1</td>\n",
       "      <td>1</td>\n",
       "      <td>0</td>\n",
       "      <td>1</td>\n",
       "      <td>a</td>\n",
       "      <td>a</td>\n",
       "      <td>29910.0</td>\n",
       "      <td>4.0</td>\n",
       "      <td>2015.0</td>\n",
       "      <td>0</td>\n",
       "      <td>NaN</td>\n",
       "      <td>NaN</td>\n",
       "      <td>NaN</td>\n",
       "    </tr>\n",
       "  </tbody>\n",
       "</table>\n",
       "</div>"
      ],
      "text/plain": [
       "   Store  DayOfWeek        Date  Sales  Customers  Open  Promo StateHoliday  SchoolHoliday StoreType Assortment  CompetitionDistance  CompetitionOpenSinceMonth  CompetitionOpenSinceYear  Promo2  Promo2SinceWeek  Promo2SinceYear    PromoInterval\n",
       "0      1          5  2015-07-31   5263        555     1      1            0              1         c          a               1270.0                        9.0                    2008.0       0              NaN              NaN              NaN\n",
       "1      2          5  2015-07-31   6064        625     1      1            0              1         a          a                570.0                       11.0                    2007.0       1             13.0           2010.0  Jan,Apr,Jul,Oct\n",
       "2      3          5  2015-07-31   8314        821     1      1            0              1         a          a              14130.0                       12.0                    2006.0       1             14.0           2011.0  Jan,Apr,Jul,Oct\n",
       "3      4          5  2015-07-31  13995       1498     1      1            0              1         c          c                620.0                        9.0                    2009.0       0              NaN              NaN              NaN\n",
       "4      5          5  2015-07-31   4822        559     1      1            0              1         a          a              29910.0                        4.0                    2015.0       0              NaN              NaN              NaN"
      ]
     },
     "execution_count": 5,
     "metadata": {},
     "output_type": "execute_result"
    }
   ],
   "source": [
    "df_raw.head()\n"
   ]
  },
  {
   "cell_type": "markdown",
   "id": "991f88c3",
   "metadata": {},
   "source": [
    "# 1.0 DATA DESCRIPTION"
   ]
  },
  {
   "cell_type": "markdown",
   "id": "efc26100",
   "metadata": {},
   "source": [
    "Data fields\n",
    "Most of the fields are self-explanatory. The following are descriptions for those that aren't.\n",
    "\n",
    "* Id - an Id that represents a (Store, Date) duple within the test set\n",
    "* Store - a unique Id for each store\n",
    "* Sales - the turnover for any given day (this is what you are predicting)\n",
    "* Customers - the number of customers on a given day\n",
    "* Open - an indicator for whether the store was open: 0 = closed, 1 = open\n",
    "* StateHoliday - indicates a state holiday. Normally all stores, with few exceptions, are closed on state holidays. Note that all schools are closed on public holidays and weekends. a = public holiday, b = Easter holiday, c = Christmas, 0 = None\n",
    "* SchoolHoliday - indicates if the (Store, Date) was affected by the closure of public schools\n",
    "* StoreType - differentiates between 4 different store models: a, b, c, d\n",
    "* Assortment - describes an assortment level: a = basic, b = extra, c = extended\n",
    "* CompetitionDistance - distance in meters to the nearest competitor store\n",
    "* CompetitionOpenSince[Month/Year] - gives the approximate year and month of the time the nearest competitor was opened\n",
    "* Promo - indicates whether a store is running a promo on that day\n",
    "* Promo2 - Promo2 is a continuing and consecutive promotion for some stores: 0 = store is not participating, 1 = store is participating\n",
    "* Promo2Since[Year/Week] - describes the year and calendar week when the store started participating in Promo2\n",
    "* PromoInterval - describes the consecutive intervals Promo2 is started, naming the months the promotion is started anew. E.g. \"Feb,May,Aug,Nov\" means each round starts in February, May, August, November of any given year for that store"
   ]
  },
  {
   "cell_type": "code",
   "execution_count": 6,
   "id": "c96afffc",
   "metadata": {
    "ExecuteTime": {
     "end_time": "2021-10-22T19:05:35.746965Z",
     "start_time": "2021-10-22T19:05:35.543833Z"
    }
   },
   "outputs": [],
   "source": [
    "df1 = df_raw[df_raw['Store'] % 17 ==0].copy()"
   ]
  },
  {
   "cell_type": "markdown",
   "id": "066d7013",
   "metadata": {
    "heading_collapsed": true
   },
   "source": [
    "## 1.1 Rename Columns"
   ]
  },
  {
   "cell_type": "code",
   "execution_count": 7,
   "id": "f72649f6",
   "metadata": {
    "ExecuteTime": {
     "end_time": "2021-10-22T19:05:35.762911Z",
     "start_time": "2021-10-22T19:05:35.748947Z"
    },
    "hidden": true
   },
   "outputs": [],
   "source": [
    "cols_old = ['Store', 'DayOfWeek', 'Date', 'Sales', 'Customers', 'Open', 'Promo',\n",
    "       'StateHoliday', 'SchoolHoliday', 'StoreType', 'Assortment',\n",
    "       'CompetitionDistance', 'CompetitionOpenSinceMonth',\n",
    "       'CompetitionOpenSinceYear', 'Promo2', 'Promo2SinceWeek',\n",
    "       'Promo2SinceYear', 'PromoInterval']\n",
    "\n",
    "snakecase = lambda x: inflection.underscore(x)\n",
    "\n",
    "cols_new = list(map(snakecase, cols_old))\n",
    "\n",
    "# rename\n",
    "df1.columns = cols_new\n",
    "\n"
   ]
  },
  {
   "cell_type": "markdown",
   "id": "401562e4",
   "metadata": {},
   "source": [
    "## 1.2 Data Dimensions"
   ]
  },
  {
   "cell_type": "code",
   "execution_count": 8,
   "id": "66196601",
   "metadata": {
    "ExecuteTime": {
     "end_time": "2021-10-22T19:05:35.778868Z",
     "start_time": "2021-10-22T19:05:35.764905Z"
    }
   },
   "outputs": [
    {
     "name": "stdout",
     "output_type": "stream",
     "text": [
      "Number of Rows: 59574\n",
      "Number of Cols: 18\n"
     ]
    }
   ],
   "source": [
    "print('Number of Rows: {}'.format(df1.shape[0]))\n",
    "print('Number of Cols: {}'.format(df1.shape[1]))"
   ]
  },
  {
   "cell_type": "markdown",
   "id": "b70fdf7f",
   "metadata": {},
   "source": [
    "## 1.3 Data Types"
   ]
  },
  {
   "cell_type": "code",
   "execution_count": 9,
   "id": "89c66343",
   "metadata": {
    "ExecuteTime": {
     "end_time": "2021-10-22T19:05:35.794825Z",
     "start_time": "2021-10-22T19:05:35.780863Z"
    }
   },
   "outputs": [
    {
     "data": {
      "text/plain": [
       "store                             int64\n",
       "day_of_week                       int64\n",
       "date                             object\n",
       "sales                             int64\n",
       "customers                         int64\n",
       "open                              int64\n",
       "promo                             int64\n",
       "state_holiday                    object\n",
       "school_holiday                    int64\n",
       "store_type                       object\n",
       "assortment                       object\n",
       "competition_distance            float64\n",
       "competition_open_since_month    float64\n",
       "competition_open_since_year     float64\n",
       "promo2                            int64\n",
       "promo2_since_week               float64\n",
       "promo2_since_year               float64\n",
       "promo_interval                   object\n",
       "dtype: object"
      ]
     },
     "execution_count": 9,
     "metadata": {},
     "output_type": "execute_result"
    }
   ],
   "source": [
    "df1.dtypes"
   ]
  },
  {
   "cell_type": "code",
   "execution_count": 10,
   "id": "55e282d0",
   "metadata": {
    "ExecuteTime": {
     "end_time": "2021-10-22T19:05:35.825743Z",
     "start_time": "2021-10-22T19:05:35.796820Z"
    }
   },
   "outputs": [
    {
     "data": {
      "text/plain": [
       "store                                    int64\n",
       "day_of_week                              int64\n",
       "date                            datetime64[ns]\n",
       "sales                                    int64\n",
       "customers                                int64\n",
       "open                                     int64\n",
       "promo                                    int64\n",
       "state_holiday                           object\n",
       "school_holiday                           int64\n",
       "store_type                              object\n",
       "assortment                              object\n",
       "competition_distance                   float64\n",
       "competition_open_since_month           float64\n",
       "competition_open_since_year            float64\n",
       "promo2                                   int64\n",
       "promo2_since_week                      float64\n",
       "promo2_since_year                      float64\n",
       "promo_interval                          object\n",
       "dtype: object"
      ]
     },
     "execution_count": 10,
     "metadata": {},
     "output_type": "execute_result"
    }
   ],
   "source": [
    "df1['date'] = pd.to_datetime(df1['date'])\n",
    "df1.dtypes"
   ]
  },
  {
   "cell_type": "markdown",
   "id": "46819448",
   "metadata": {},
   "source": [
    "## 1.4 Check NA"
   ]
  },
  {
   "cell_type": "markdown",
   "id": "e9da6b14",
   "metadata": {},
   "source": [
    "Há 3 formas de substituir NAs\n",
    "* Drop NA rows\n",
    "* Using statistics and machine learning to infere data\n",
    "* Understanding why the data is missing"
   ]
  },
  {
   "cell_type": "code",
   "execution_count": 11,
   "id": "4a8bc818",
   "metadata": {
    "ExecuteTime": {
     "end_time": "2021-10-22T19:05:35.857658Z",
     "start_time": "2021-10-22T19:05:35.827737Z"
    },
    "scrolled": false
   },
   "outputs": [
    {
     "data": {
      "text/plain": [
       "store                               0\n",
       "day_of_week                         0\n",
       "date                                0\n",
       "sales                               0\n",
       "customers                           0\n",
       "open                                0\n",
       "promo                               0\n",
       "state_holiday                       0\n",
       "school_holiday                      0\n",
       "store_type                          0\n",
       "assortment                          0\n",
       "competition_distance                0\n",
       "competition_open_since_month    16772\n",
       "competition_open_since_year     16772\n",
       "promo2                              0\n",
       "promo2_since_week               25824\n",
       "promo2_since_year               25824\n",
       "promo_interval                  25824\n",
       "dtype: int64"
      ]
     },
     "execution_count": 11,
     "metadata": {},
     "output_type": "execute_result"
    }
   ],
   "source": [
    "df1.isna().sum()"
   ]
  },
  {
   "cell_type": "markdown",
   "id": "8a3e6d02",
   "metadata": {},
   "source": [
    "## 1.5 Fillout NA"
   ]
  },
  {
   "cell_type": "code",
   "execution_count": 12,
   "id": "3b3e696d",
   "metadata": {
    "ExecuteTime": {
     "end_time": "2021-10-22T19:05:35.889572Z",
     "start_time": "2021-10-22T19:05:35.859653Z"
    }
   },
   "outputs": [],
   "source": [
    "#competition_distance              2642\n",
    "# Imaginar que não há competidores próximos, ou seja, distância grande.\n",
    "faraway = 100*df1.competition_distance.max()\n",
    "near = 50\n",
    "\n",
    "df1['competition_distance'].fillna(faraway, inplace=True)\n",
    "df1['competition_distance'] = df1['competition_distance'].apply(lambda x: near if x <=near else x)"
   ]
  },
  {
   "cell_type": "code",
   "execution_count": 13,
   "id": "91b1c66e",
   "metadata": {
    "ExecuteTime": {
     "end_time": "2021-10-22T19:05:38.347597Z",
     "start_time": "2021-10-22T19:05:35.891566Z"
    }
   },
   "outputs": [],
   "source": [
    "# A ideia aqui é aplicar o data atual (do dado lido) para dizer depois que não há tempo com concorrente.\n",
    "# applicar df1.date para os campos de competition open since\n",
    "\n",
    "#competition_open_since_month    323348\n",
    "df1['competition_open_since_month']= df1.apply(lambda x: x['date'].month if math.isnan(x['competition_open_since_month']) else x['competition_open_since_month'], axis=1)\n",
    "\n",
    "#competition_open_since_year     323348\n",
    "df1['competition_open_since_year']= df1.apply(lambda x: x['date'].year if math.isnan(x['competition_open_since_year']) else x['competition_open_since_year'], axis=1)\n"
   ]
  },
  {
   "cell_type": "code",
   "execution_count": 14,
   "id": "13d14c93",
   "metadata": {
    "ExecuteTime": {
     "end_time": "2021-10-22T19:05:38.378418Z",
     "start_time": "2021-10-22T19:05:38.349495Z"
    }
   },
   "outputs": [
    {
     "name": "stdout",
     "output_type": "stream",
     "text": [
      "Number of rows with promo2 == 0: 25824\n",
      "Number of rows with promo2 == 1 and missing since values: 0\n"
     ]
    }
   ],
   "source": [
    "# Para os dados de promo2_since_, fazer o mesmo. Aparentemente, não os dados faltantes são os que não há promo2,\n",
    "# checar na mão!\n",
    "\n",
    "print('Number of rows with promo2 == 0: {}'.format(df1[df1['promo2']== 0].shape[0]))\n",
    "print('Number of rows with promo2 == 1 and missing since values: {}'.format((df1[df1['promo2']== 1 & (df1['promo2_since_week'].isna() | df1['promo2_since_year'].isna())].shape[0])))\n",
    "      "
   ]
  },
  {
   "cell_type": "code",
   "execution_count": 15,
   "id": "55fd805e",
   "metadata": {
    "ExecuteTime": {
     "end_time": "2021-10-22T19:05:40.219117Z",
     "start_time": "2021-10-22T19:05:38.380412Z"
    }
   },
   "outputs": [],
   "source": [
    "# Atribuir a data atual (da leitura) para dizer que não há tempo desde a última promo.\n",
    "#promo2_since_week              508031\n",
    "\n",
    "df1['promo2_since_week'] = df1.apply(lambda x: x['date'].week if math.isnan(x['promo2_since_week']) else x['promo2_since_week'], axis=1)\n",
    "\n",
    "#promo2_since_year               508031\n",
    "df1['promo2_since_year'] = df1.apply(lambda x: x['date'].year if math.isnan(x['promo2_since_year']) else x['promo2_since_year'], axis=1)\n"
   ]
  },
  {
   "cell_type": "code",
   "execution_count": 16,
   "id": "847b90f8",
   "metadata": {
    "ExecuteTime": {
     "end_time": "2021-10-22T19:05:41.041978Z",
     "start_time": "2021-10-22T19:05:40.221115Z"
    }
   },
   "outputs": [],
   "source": [
    "#promo_interval  \n",
    "\n",
    "# criar month map dict\n",
    "month_map = {1: 'Jan', 2: 'Feb', 3: 'Mar', 4: 'Apr', 5: 'May', 6: 'Jun', 7: 'Jul', 8: 'Aug', 9: 'Sep', 10: 'Oct', 11: 'Nov', 12: 'Dec'}\n",
    "\n",
    "# criar colunas 'month_map' com base em date\n",
    "df1['month_map'] = df1['date'].dt.month.map(month_map)\n",
    "\n",
    "# criar 'is_promo' comparando o map com promo_inverval\n",
    "df1['promo_interval'].fillna('', inplace=True)\n",
    "\n",
    "\n",
    "df1['is_promo'] = df1[['promo_interval', 'month_map']].apply(lambda x: 1 if x['month_map'] in x['promo_interval'].split(',')\n",
    "                            else 0 ,axis=1)\n",
    "\n"
   ]
  },
  {
   "cell_type": "markdown",
   "id": "d616952f",
   "metadata": {},
   "source": [
    "## 1.6. Change Data Types\n"
   ]
  },
  {
   "cell_type": "code",
   "execution_count": 17,
   "id": "3c92fb40",
   "metadata": {
    "ExecuteTime": {
     "end_time": "2021-10-22T19:05:41.058090Z",
     "start_time": "2021-10-22T19:05:41.044035Z"
    }
   },
   "outputs": [],
   "source": [
    "# competiton\n",
    "df1['competition_open_since_month'] = df1['competition_open_since_month'].astype( int64 )\n",
    "df1['competition_open_since_year'] = df1['competition_open_since_year'].astype( int64 )\n",
    "    \n",
    "# promo2\n",
    "df1['promo2_since_week'] = df1['promo2_since_week'].astype( int64 )\n",
    "df1['promo2_since_year'] = df1['promo2_since_year'].astype( int64 )"
   ]
  },
  {
   "cell_type": "markdown",
   "id": "2de8b0c0",
   "metadata": {},
   "source": [
    "## 1.7. Descriptive Statistics"
   ]
  },
  {
   "cell_type": "code",
   "execution_count": 18,
   "id": "5ddb2463",
   "metadata": {
    "ExecuteTime": {
     "end_time": "2021-10-22T19:05:41.073955Z",
     "start_time": "2021-10-22T19:05:41.063013Z"
    }
   },
   "outputs": [
    {
     "data": {
      "text/plain": [
       "store                                    int64\n",
       "day_of_week                              int64\n",
       "date                            datetime64[ns]\n",
       "sales                                    int64\n",
       "customers                                int64\n",
       "open                                     int64\n",
       "promo                                    int64\n",
       "state_holiday                           object\n",
       "school_holiday                           int64\n",
       "store_type                              object\n",
       "assortment                              object\n",
       "competition_distance                   float64\n",
       "competition_open_since_month             int64\n",
       "competition_open_since_year              int64\n",
       "promo2                                   int64\n",
       "promo2_since_week                        int64\n",
       "promo2_since_year                        int64\n",
       "promo_interval                          object\n",
       "month_map                               object\n",
       "is_promo                                 int64\n",
       "dtype: object"
      ]
     },
     "execution_count": 18,
     "metadata": {},
     "output_type": "execute_result"
    }
   ],
   "source": [
    "df1.dtypes"
   ]
  },
  {
   "cell_type": "code",
   "execution_count": 19,
   "id": "d7c4ddef",
   "metadata": {
    "ExecuteTime": {
     "end_time": "2021-10-22T19:05:41.105746Z",
     "start_time": "2021-10-22T19:05:41.076949Z"
    }
   },
   "outputs": [],
   "source": [
    "num_attributes = df1.select_dtypes( include=['int64', 'float64'] )\n",
    "cat_attributes = df1.select_dtypes( exclude=['int64', 'float64', 'datetime64[ns]'] )\n",
    "\n",
    "num_attributes_list = list(num_attributes.columns)\n",
    "cat_attributes_list = list(cat_attributes.columns)"
   ]
  },
  {
   "cell_type": "code",
   "execution_count": 20,
   "id": "cd315f0d",
   "metadata": {
    "ExecuteTime": {
     "end_time": "2021-10-22T19:05:41.121648Z",
     "start_time": "2021-10-22T19:05:41.107170Z"
    }
   },
   "outputs": [
    {
     "data": {
      "text/html": [
       "<div>\n",
       "<style scoped>\n",
       "    .dataframe tbody tr th:only-of-type {\n",
       "        vertical-align: middle;\n",
       "    }\n",
       "\n",
       "    .dataframe tbody tr th {\n",
       "        vertical-align: top;\n",
       "    }\n",
       "\n",
       "    .dataframe thead th {\n",
       "        text-align: right;\n",
       "    }\n",
       "</style>\n",
       "<table border=\"1\" class=\"dataframe\">\n",
       "  <thead>\n",
       "    <tr style=\"text-align: right;\">\n",
       "      <th></th>\n",
       "      <th>store</th>\n",
       "      <th>day_of_week</th>\n",
       "      <th>sales</th>\n",
       "      <th>customers</th>\n",
       "      <th>open</th>\n",
       "      <th>promo</th>\n",
       "      <th>school_holiday</th>\n",
       "      <th>competition_distance</th>\n",
       "      <th>competition_open_since_month</th>\n",
       "      <th>competition_open_since_year</th>\n",
       "      <th>promo2</th>\n",
       "      <th>promo2_since_week</th>\n",
       "      <th>promo2_since_year</th>\n",
       "      <th>is_promo</th>\n",
       "    </tr>\n",
       "  </thead>\n",
       "  <tbody>\n",
       "    <tr>\n",
       "      <th>16</th>\n",
       "      <td>17</td>\n",
       "      <td>5</td>\n",
       "      <td>8430</td>\n",
       "      <td>946</td>\n",
       "      <td>1</td>\n",
       "      <td>1</td>\n",
       "      <td>1</td>\n",
       "      <td>50.0</td>\n",
       "      <td>12</td>\n",
       "      <td>2005</td>\n",
       "      <td>1</td>\n",
       "      <td>26</td>\n",
       "      <td>2010</td>\n",
       "      <td>1</td>\n",
       "    </tr>\n",
       "    <tr>\n",
       "      <th>33</th>\n",
       "      <td>34</td>\n",
       "      <td>5</td>\n",
       "      <td>11144</td>\n",
       "      <td>1162</td>\n",
       "      <td>1</td>\n",
       "      <td>1</td>\n",
       "      <td>1</td>\n",
       "      <td>2240.0</td>\n",
       "      <td>9</td>\n",
       "      <td>2009</td>\n",
       "      <td>0</td>\n",
       "      <td>31</td>\n",
       "      <td>2015</td>\n",
       "      <td>0</td>\n",
       "    </tr>\n",
       "    <tr>\n",
       "      <th>50</th>\n",
       "      <td>51</td>\n",
       "      <td>5</td>\n",
       "      <td>9198</td>\n",
       "      <td>610</td>\n",
       "      <td>1</td>\n",
       "      <td>1</td>\n",
       "      <td>0</td>\n",
       "      <td>10570.0</td>\n",
       "      <td>7</td>\n",
       "      <td>2013</td>\n",
       "      <td>1</td>\n",
       "      <td>9</td>\n",
       "      <td>2011</td>\n",
       "      <td>1</td>\n",
       "    </tr>\n",
       "    <tr>\n",
       "      <th>67</th>\n",
       "      <td>68</td>\n",
       "      <td>5</td>\n",
       "      <td>11187</td>\n",
       "      <td>1341</td>\n",
       "      <td>1</td>\n",
       "      <td>1</td>\n",
       "      <td>1</td>\n",
       "      <td>250.0</td>\n",
       "      <td>7</td>\n",
       "      <td>2015</td>\n",
       "      <td>1</td>\n",
       "      <td>35</td>\n",
       "      <td>2012</td>\n",
       "      <td>0</td>\n",
       "    </tr>\n",
       "    <tr>\n",
       "      <th>84</th>\n",
       "      <td>85</td>\n",
       "      <td>5</td>\n",
       "      <td>7791</td>\n",
       "      <td>971</td>\n",
       "      <td>1</td>\n",
       "      <td>1</td>\n",
       "      <td>1</td>\n",
       "      <td>1870.0</td>\n",
       "      <td>10</td>\n",
       "      <td>2011</td>\n",
       "      <td>0</td>\n",
       "      <td>31</td>\n",
       "      <td>2015</td>\n",
       "      <td>0</td>\n",
       "    </tr>\n",
       "  </tbody>\n",
       "</table>\n",
       "</div>"
      ],
      "text/plain": [
       "    store  day_of_week  sales  customers  open  promo  school_holiday  competition_distance  competition_open_since_month  competition_open_since_year  promo2  promo2_since_week  promo2_since_year  is_promo\n",
       "16     17            5   8430        946     1      1               1                  50.0                            12                         2005       1                 26               2010         1\n",
       "33     34            5  11144       1162     1      1               1                2240.0                             9                         2009       0                 31               2015         0\n",
       "50     51            5   9198        610     1      1               0               10570.0                             7                         2013       1                  9               2011         1\n",
       "67     68            5  11187       1341     1      1               1                 250.0                             7                         2015       1                 35               2012         0\n",
       "84     85            5   7791        971     1      1               1                1870.0                            10                         2011       0                 31               2015         0"
      ]
     },
     "execution_count": 20,
     "metadata": {},
     "output_type": "execute_result"
    }
   ],
   "source": [
    "num_attributes.head()"
   ]
  },
  {
   "cell_type": "code",
   "execution_count": 21,
   "id": "255af71a",
   "metadata": {
    "ExecuteTime": {
     "end_time": "2021-10-22T19:05:41.153529Z",
     "start_time": "2021-10-22T19:05:41.123609Z"
    }
   },
   "outputs": [
    {
     "data": {
      "text/html": [
       "<div>\n",
       "<style scoped>\n",
       "    .dataframe tbody tr th:only-of-type {\n",
       "        vertical-align: middle;\n",
       "    }\n",
       "\n",
       "    .dataframe tbody tr th {\n",
       "        vertical-align: top;\n",
       "    }\n",
       "\n",
       "    .dataframe thead th {\n",
       "        text-align: right;\n",
       "    }\n",
       "</style>\n",
       "<table border=\"1\" class=\"dataframe\">\n",
       "  <thead>\n",
       "    <tr style=\"text-align: right;\">\n",
       "      <th></th>\n",
       "      <th>state_holiday</th>\n",
       "      <th>store_type</th>\n",
       "      <th>assortment</th>\n",
       "      <th>promo_interval</th>\n",
       "      <th>month_map</th>\n",
       "    </tr>\n",
       "  </thead>\n",
       "  <tbody>\n",
       "    <tr>\n",
       "      <th>16</th>\n",
       "      <td>0</td>\n",
       "      <td>a</td>\n",
       "      <td>a</td>\n",
       "      <td>Jan,Apr,Jul,Oct</td>\n",
       "      <td>Jul</td>\n",
       "    </tr>\n",
       "    <tr>\n",
       "      <th>33</th>\n",
       "      <td>0</td>\n",
       "      <td>c</td>\n",
       "      <td>a</td>\n",
       "      <td></td>\n",
       "      <td>Jul</td>\n",
       "    </tr>\n",
       "    <tr>\n",
       "      <th>50</th>\n",
       "      <td>0</td>\n",
       "      <td>a</td>\n",
       "      <td>c</td>\n",
       "      <td>Jan,Apr,Jul,Oct</td>\n",
       "      <td>Jul</td>\n",
       "    </tr>\n",
       "    <tr>\n",
       "      <th>67</th>\n",
       "      <td>0</td>\n",
       "      <td>a</td>\n",
       "      <td>c</td>\n",
       "      <td>Mar,Jun,Sept,Dec</td>\n",
       "      <td>Jul</td>\n",
       "    </tr>\n",
       "    <tr>\n",
       "      <th>84</th>\n",
       "      <td>0</td>\n",
       "      <td>b</td>\n",
       "      <td>a</td>\n",
       "      <td></td>\n",
       "      <td>Jul</td>\n",
       "    </tr>\n",
       "  </tbody>\n",
       "</table>\n",
       "</div>"
      ],
      "text/plain": [
       "   state_holiday store_type assortment    promo_interval month_map\n",
       "16             0          a          a   Jan,Apr,Jul,Oct       Jul\n",
       "33             0          c          a                         Jul\n",
       "50             0          a          c   Jan,Apr,Jul,Oct       Jul\n",
       "67             0          a          c  Mar,Jun,Sept,Dec       Jul\n",
       "84             0          b          a                         Jul"
      ]
     },
     "execution_count": 21,
     "metadata": {},
     "output_type": "execute_result"
    }
   ],
   "source": [
    "cat_attributes.head()"
   ]
  },
  {
   "cell_type": "markdown",
   "id": "6e86abcc",
   "metadata": {},
   "source": [
    "### 1.7.1. Numerical Atributes"
   ]
  },
  {
   "cell_type": "markdown",
   "id": "d65a3728",
   "metadata": {},
   "source": [
    "Aqui parece ser mais razoável selecionar as colunas que façam sentido ter estatísticas.\n",
    "Algumas variáveis aqui são categóricas mas o encoding já está feito como:\n",
    "- store\n",
    "- day_of_week\n",
    "- promo2"
   ]
  },
  {
   "cell_type": "code",
   "execution_count": 22,
   "id": "365971ef",
   "metadata": {
    "ExecuteTime": {
     "end_time": "2021-10-22T19:05:41.249274Z",
     "start_time": "2021-10-22T19:05:41.154526Z"
    }
   },
   "outputs": [
    {
     "data": {
      "text/html": [
       "<div>\n",
       "<style scoped>\n",
       "    .dataframe tbody tr th:only-of-type {\n",
       "        vertical-align: middle;\n",
       "    }\n",
       "\n",
       "    .dataframe tbody tr th {\n",
       "        vertical-align: top;\n",
       "    }\n",
       "\n",
       "    .dataframe thead th {\n",
       "        text-align: right;\n",
       "    }\n",
       "</style>\n",
       "<table border=\"1\" class=\"dataframe\">\n",
       "  <thead>\n",
       "    <tr style=\"text-align: right;\">\n",
       "      <th></th>\n",
       "      <th>store</th>\n",
       "      <th>day_of_week</th>\n",
       "      <th>sales</th>\n",
       "      <th>customers</th>\n",
       "      <th>open</th>\n",
       "      <th>promo</th>\n",
       "      <th>school_holiday</th>\n",
       "      <th>competition_distance</th>\n",
       "      <th>competition_open_since_month</th>\n",
       "      <th>competition_open_since_year</th>\n",
       "      <th>promo2</th>\n",
       "      <th>promo2_since_week</th>\n",
       "      <th>promo2_since_year</th>\n",
       "      <th>is_promo</th>\n",
       "    </tr>\n",
       "  </thead>\n",
       "  <tbody>\n",
       "    <tr>\n",
       "      <th>count</th>\n",
       "      <td>59574.000000</td>\n",
       "      <td>59574.000000</td>\n",
       "      <td>59574.000000</td>\n",
       "      <td>59574.000000</td>\n",
       "      <td>59574.000000</td>\n",
       "      <td>59574.000000</td>\n",
       "      <td>59574.000000</td>\n",
       "      <td>59574.000000</td>\n",
       "      <td>59574.000000</td>\n",
       "      <td>59574.000000</td>\n",
       "      <td>59574.000000</td>\n",
       "      <td>59574.000000</td>\n",
       "      <td>59574.000000</td>\n",
       "      <td>59574.000000</td>\n",
       "    </tr>\n",
       "    <tr>\n",
       "      <th>mean</th>\n",
       "      <td>562.942727</td>\n",
       "      <td>3.998271</td>\n",
       "      <td>5626.912428</td>\n",
       "      <td>614.360056</td>\n",
       "      <td>0.832209</td>\n",
       "      <td>0.381609</td>\n",
       "      <td>0.175060</td>\n",
       "      <td>5684.942760</td>\n",
       "      <td>7.216621</td>\n",
       "      <td>2010.226407</td>\n",
       "      <td>0.566522</td>\n",
       "      <td>24.030164</td>\n",
       "      <td>2012.690905</td>\n",
       "      <td>0.186994</td>\n",
       "    </tr>\n",
       "    <tr>\n",
       "      <th>std</th>\n",
       "      <td>318.996803</td>\n",
       "      <td>1.997400</td>\n",
       "      <td>3630.477237</td>\n",
       "      <td>403.144225</td>\n",
       "      <td>0.373684</td>\n",
       "      <td>0.485786</td>\n",
       "      <td>0.380021</td>\n",
       "      <td>6549.599528</td>\n",
       "      <td>3.287028</td>\n",
       "      <td>4.615929</td>\n",
       "      <td>0.495559</td>\n",
       "      <td>13.936008</td>\n",
       "      <td>1.673691</td>\n",
       "      <td>0.389910</td>\n",
       "    </tr>\n",
       "    <tr>\n",
       "      <th>min</th>\n",
       "      <td>17.000000</td>\n",
       "      <td>1.000000</td>\n",
       "      <td>0.000000</td>\n",
       "      <td>0.000000</td>\n",
       "      <td>0.000000</td>\n",
       "      <td>0.000000</td>\n",
       "      <td>0.000000</td>\n",
       "      <td>50.000000</td>\n",
       "      <td>1.000000</td>\n",
       "      <td>1999.000000</td>\n",
       "      <td>0.000000</td>\n",
       "      <td>1.000000</td>\n",
       "      <td>2009.000000</td>\n",
       "      <td>0.000000</td>\n",
       "    </tr>\n",
       "    <tr>\n",
       "      <th>25%</th>\n",
       "      <td>289.000000</td>\n",
       "      <td>2.000000</td>\n",
       "      <td>3838.000000</td>\n",
       "      <td>416.000000</td>\n",
       "      <td>1.000000</td>\n",
       "      <td>0.000000</td>\n",
       "      <td>0.000000</td>\n",
       "      <td>620.000000</td>\n",
       "      <td>4.000000</td>\n",
       "      <td>2007.000000</td>\n",
       "      <td>0.000000</td>\n",
       "      <td>12.000000</td>\n",
       "      <td>2012.000000</td>\n",
       "      <td>0.000000</td>\n",
       "    </tr>\n",
       "    <tr>\n",
       "      <th>50%</th>\n",
       "      <td>561.000000</td>\n",
       "      <td>4.000000</td>\n",
       "      <td>5633.000000</td>\n",
       "      <td>609.000000</td>\n",
       "      <td>1.000000</td>\n",
       "      <td>0.000000</td>\n",
       "      <td>0.000000</td>\n",
       "      <td>2490.000000</td>\n",
       "      <td>7.000000</td>\n",
       "      <td>2012.000000</td>\n",
       "      <td>1.000000</td>\n",
       "      <td>23.000000</td>\n",
       "      <td>2013.000000</td>\n",
       "      <td>0.000000</td>\n",
       "    </tr>\n",
       "    <tr>\n",
       "      <th>75%</th>\n",
       "      <td>833.000000</td>\n",
       "      <td>6.000000</td>\n",
       "      <td>7581.750000</td>\n",
       "      <td>832.000000</td>\n",
       "      <td>1.000000</td>\n",
       "      <td>1.000000</td>\n",
       "      <td>0.000000</td>\n",
       "      <td>8260.000000</td>\n",
       "      <td>10.000000</td>\n",
       "      <td>2014.000000</td>\n",
       "      <td>1.000000</td>\n",
       "      <td>35.000000</td>\n",
       "      <td>2014.000000</td>\n",
       "      <td>0.000000</td>\n",
       "    </tr>\n",
       "    <tr>\n",
       "      <th>max</th>\n",
       "      <td>1105.000000</td>\n",
       "      <td>7.000000</td>\n",
       "      <td>31415.000000</td>\n",
       "      <td>3145.000000</td>\n",
       "      <td>1.000000</td>\n",
       "      <td>1.000000</td>\n",
       "      <td>1.000000</td>\n",
       "      <td>25430.000000</td>\n",
       "      <td>12.000000</td>\n",
       "      <td>2015.000000</td>\n",
       "      <td>1.000000</td>\n",
       "      <td>52.000000</td>\n",
       "      <td>2015.000000</td>\n",
       "      <td>1.000000</td>\n",
       "    </tr>\n",
       "  </tbody>\n",
       "</table>\n",
       "</div>"
      ],
      "text/plain": [
       "              store   day_of_week         sales     customers          open         promo  school_holiday  competition_distance  competition_open_since_month  competition_open_since_year        promo2  promo2_since_week  promo2_since_year      is_promo\n",
       "count  59574.000000  59574.000000  59574.000000  59574.000000  59574.000000  59574.000000    59574.000000          59574.000000                  59574.000000                 59574.000000  59574.000000       59574.000000       59574.000000  59574.000000\n",
       "mean     562.942727      3.998271   5626.912428    614.360056      0.832209      0.381609        0.175060           5684.942760                      7.216621                  2010.226407      0.566522          24.030164        2012.690905      0.186994\n",
       "std      318.996803      1.997400   3630.477237    403.144225      0.373684      0.485786        0.380021           6549.599528                      3.287028                     4.615929      0.495559          13.936008           1.673691      0.389910\n",
       "min       17.000000      1.000000      0.000000      0.000000      0.000000      0.000000        0.000000             50.000000                      1.000000                  1999.000000      0.000000           1.000000        2009.000000      0.000000\n",
       "25%      289.000000      2.000000   3838.000000    416.000000      1.000000      0.000000        0.000000            620.000000                      4.000000                  2007.000000      0.000000          12.000000        2012.000000      0.000000\n",
       "50%      561.000000      4.000000   5633.000000    609.000000      1.000000      0.000000        0.000000           2490.000000                      7.000000                  2012.000000      1.000000          23.000000        2013.000000      0.000000\n",
       "75%      833.000000      6.000000   7581.750000    832.000000      1.000000      1.000000        0.000000           8260.000000                     10.000000                  2014.000000      1.000000          35.000000        2014.000000      0.000000\n",
       "max     1105.000000      7.000000  31415.000000   3145.000000      1.000000      1.000000        1.000000          25430.000000                     12.000000                  2015.000000      1.000000          52.000000        2015.000000      1.000000"
      ]
     },
     "execution_count": 22,
     "metadata": {},
     "output_type": "execute_result"
    }
   ],
   "source": [
    "# Central Tendency - mean, median \n",
    "\n",
    "m = num_attributes.describe()\n",
    "#ct1 = pd.DataFrame( num_attributes.apply( np.mean ) ).T\n",
    "#ct2 = pd.DataFrame( num_attributes.apply( np.median ) ).T\n",
    "\n",
    "# dispersion - std, min, max, range, skew, kurtosis\n",
    "#d1 = pd.DataFrame( num_attributes.apply( np.std ) ).T \n",
    "#d2 = pd.DataFrame( num_attributes.apply( min ) ).T \n",
    "#d3 = pd.DataFrame( num_attributes.apply( max ) ).T \n",
    "#d4 = pd.DataFrame( num_attributes.apply( lambda x: x.max() - x.min() ) ).T \n",
    "#d5 = pd.DataFrame( num_attributes.apply( lambda x: x.skew() ) ).T \n",
    "#d6 = pd.DataFrame( num_attributes.apply( lambda x: x.kurtosis() ) ).T \n",
    "\n",
    "# concatenar\n",
    "#m = pd.concat( [d2, d3, d4, ct1, ct2, d1, d5, d6] ).T.reset_index()\n",
    "#m.columns = ['attributes', 'min', 'max', 'range', 'mean', 'median', 'std', 'skew', 'kurtosis']\n",
    "#m\n",
    "#ct1\n",
    "m"
   ]
  },
  {
   "cell_type": "markdown",
   "id": "118ebc5c",
   "metadata": {},
   "source": [
    "### 1.7.2. Categorical Atributes"
   ]
  },
  {
   "cell_type": "code",
   "execution_count": 23,
   "id": "d49fa6ed",
   "metadata": {
    "ExecuteTime": {
     "end_time": "2021-10-22T19:05:41.297145Z",
     "start_time": "2021-10-22T19:05:41.253265Z"
    }
   },
   "outputs": [
    {
     "data": {
      "text/plain": [
       "state_holiday      4\n",
       "store_type         4\n",
       "assortment         2\n",
       "promo_interval     4\n",
       "month_map         12\n",
       "dtype: int64"
      ]
     },
     "execution_count": 23,
     "metadata": {},
     "output_type": "execute_result"
    }
   ],
   "source": [
    "cat_attributes.apply( lambda x: x.unique().shape[0] )\n"
   ]
  },
  {
   "cell_type": "code",
   "execution_count": 24,
   "id": "2530ac33",
   "metadata": {
    "ExecuteTime": {
     "end_time": "2021-10-22T19:05:41.882579Z",
     "start_time": "2021-10-22T19:05:41.299140Z"
    }
   },
   "outputs": [
    {
     "data": {
      "text/plain": [
       "<AxesSubplot:xlabel='assortment', ylabel='sales'>"
      ]
     },
     "execution_count": 24,
     "metadata": {},
     "output_type": "execute_result"
    },
    {
     "data": {
      "image/png": "[encoded data removed]",
      "text/plain": [
       "<Figure size 1800x864 with 3 Axes>"
      ]
     },
     "metadata": {},
     "output_type": "display_data"
    }
   ],
   "source": [
    "aux = df1[(df1['state_holiday'] != '0') & (df1['sales'] > 0)]\n",
    "\n",
    "plt.subplot( 1, 3, 1 )\n",
    "sns.boxplot( x='state_holiday', y='sales', data=aux )\n",
    "\n",
    "plt.subplot( 1, 3, 2 )\n",
    "sns.boxplot( x='store_type', y='sales', data=aux )\n",
    "\n",
    "plt.subplot( 1, 3, 3 )\n",
    "sns.boxplot( x='assortment', y='sales', data=aux )"
   ]
  },
  {
   "cell_type": "markdown",
   "id": "2d874333",
   "metadata": {},
   "source": [
    "# 2.0. FEATURE ENGINEERING"
   ]
  },
  {
   "cell_type": "code",
   "execution_count": 25,
   "id": "52fe0089",
   "metadata": {
    "ExecuteTime": {
     "end_time": "2021-10-22T19:05:41.898542Z",
     "start_time": "2021-10-22T19:05:41.884575Z"
    }
   },
   "outputs": [],
   "source": [
    "df2 = df1.copy()"
   ]
  },
  {
   "cell_type": "markdown",
   "id": "91d94770",
   "metadata": {},
   "source": [
    "## 2.1. Hypothesys Mindmap"
   ]
  },
  {
   "cell_type": "markdown",
   "id": "b6224fa3",
   "metadata": {},
   "source": [
    "Fazer um mapa mental com as hipóteses a serem levantadas."
   ]
  },
  {
   "cell_type": "markdown",
   "id": "26a9d175",
   "metadata": {},
   "source": [
    "## 2.2. Criacao das Hipoteses\n"
   ]
  },
  {
   "cell_type": "markdown",
   "id": "7e884b2e",
   "metadata": {},
   "source": [
    "Registro da lista de hipóteses a serem avaliadas com brainstorming."
   ]
  },
  {
   "cell_type": "markdown",
   "id": "c139f357",
   "metadata": {},
   "source": [
    "## 2.3. Lista Final de Hipóteses\n"
   ]
  },
  {
   "cell_type": "markdown",
   "id": "e237c05d",
   "metadata": {},
   "source": [
    "Apenas escolher algumas hipóteses aparentemente mais relevantes."
   ]
  },
  {
   "cell_type": "markdown",
   "id": "39b8ec4a",
   "metadata": {},
   "source": [
    "## 2.4. Feature Engineering"
   ]
  },
  {
   "cell_type": "markdown",
   "id": "1c9a00b6",
   "metadata": {},
   "source": [
    "Derivar algumas variáveis para facilitar a avaliação"
   ]
  },
  {
   "cell_type": "code",
   "execution_count": 26,
   "id": "503d9415",
   "metadata": {
    "ExecuteTime": {
     "end_time": "2021-10-22T19:05:42.343029Z",
     "start_time": "2021-10-22T19:05:41.900532Z"
    }
   },
   "outputs": [],
   "source": [
    "# Derivando datas como variáveis categóricas\n",
    "# year\n",
    "df2['year'] = df2['date'].dt.year\n",
    "\n",
    "# month\n",
    "df2['month'] = df2['date'].dt.month\n",
    "\n",
    "# day\n",
    "df2['day'] = df2['date'].dt.day\n",
    "\n",
    "# week of year\n",
    "df2['week_of_year'] = df2['date'].dt.weekofyear\n",
    "\n",
    "# year week\n",
    "df2['year_week'] = df2['date'].dt.strftime( '%Y-%W' )"
   ]
  },
  {
   "cell_type": "code",
   "execution_count": 27,
   "id": "7f76ac5a",
   "metadata": {
    "ExecuteTime": {
     "end_time": "2021-10-22T19:05:43.835403Z",
     "start_time": "2021-10-22T19:05:42.344033Z"
    }
   },
   "outputs": [],
   "source": [
    "# competition since\n",
    "\n",
    "# criando uma única feature para dizer a data de início da promoção\n",
    "df2['competition_since'] = df2.apply( lambda x: datetime.datetime( year=x['competition_open_since_year'], month=x['competition_open_since_month'],day=1 ), axis=1 )\n",
    "\n",
    "# calcula o timedelta do início da promoção para a data do registro\n",
    "df2['competition_time_month'] = ( ( df2['date'] - df2['competition_since'] )/30 ).apply( lambda x: x.days ).astype( int64 )"
   ]
  },
  {
   "cell_type": "code",
   "execution_count": 28,
   "id": "faa978c3",
   "metadata": {
    "ExecuteTime": {
     "end_time": "2021-10-22T19:05:45.314119Z",
     "start_time": "2021-10-22T19:05:43.837401Z"
    }
   },
   "outputs": [],
   "source": [
    "# promo since\n",
    "\n",
    "# cria uma str com o formato da data\n",
    "df2['promo_since'] = df2['promo2_since_year'].astype( str ) + '-' + df2['promo2_since_week'].astype( str )\n",
    "\n",
    "# transforma a str em data\n",
    "df2['promo_since'] = df2['promo_since'].apply( lambda x: datetime.datetime.strptime( x + '-1', '%Y-%W-%w' ) - datetime.timedelta( days=7 ) )\n",
    "\n",
    "# calcula o timedelta da promoção em semanas\n",
    "df2['promo_time_week'] = ( ( df2['date'] - df2['promo_since'] )/7 ).apply( lambda x: x.days ).astype( int64 )\n",
    "\n"
   ]
  },
  {
   "cell_type": "code",
   "execution_count": 29,
   "id": "d5070ab2",
   "metadata": {
    "ExecuteTime": {
     "end_time": "2021-10-22T19:05:45.330050Z",
     "start_time": "2021-10-22T19:05:45.316083Z"
    }
   },
   "outputs": [],
   "source": [
    "# competition strenght - indica de forma mais direta a interferência da competição\n",
    "\n",
    "df2['competition_str'] = 1/df2['competition_distance']\n"
   ]
  },
  {
   "cell_type": "markdown",
   "id": "43877c67",
   "metadata": {},
   "source": [
    "# PASSO 03 - FILTRAGEM DE VARIÁVEIS\n"
   ]
  },
  {
   "cell_type": "code",
   "execution_count": 30,
   "id": "90e8e608",
   "metadata": {
    "ExecuteTime": {
     "end_time": "2021-10-22T19:05:45.346016Z",
     "start_time": "2021-10-22T19:05:45.332040Z"
    }
   },
   "outputs": [],
   "source": [
    "df3 = df2.copy()"
   ]
  },
  {
   "cell_type": "markdown",
   "id": "67bb6fd6",
   "metadata": {},
   "source": [
    "## Filtragem das Linhas\n"
   ]
  },
  {
   "cell_type": "code",
   "execution_count": 31,
   "id": "d095536c",
   "metadata": {
    "ExecuteTime": {
     "end_time": "2021-10-22T19:05:45.393906Z",
     "start_time": "2021-10-22T19:05:45.347998Z"
    }
   },
   "outputs": [],
   "source": [
    "# Exclui linhas quando as lojas estavam fechadas ou não houve vendas\n",
    "df3 = df3[(df3['open'] != 0) & (df3['sales'] > 0)]"
   ]
  },
  {
   "cell_type": "markdown",
   "id": "0c0d8dc4",
   "metadata": {},
   "source": [
    "## Feature Selection"
   ]
  },
  {
   "cell_type": "code",
   "execution_count": 32,
   "id": "6fae135f",
   "metadata": {
    "ExecuteTime": {
     "end_time": "2021-10-22T19:05:45.425789Z",
     "start_time": "2021-10-22T19:05:45.395869Z"
    }
   },
   "outputs": [
    {
     "data": {
      "text/plain": [
       "Index(['store', 'day_of_week', 'date', 'sales', 'promo', 'state_holiday',\n",
       "       'school_holiday', 'store_type', 'assortment', 'promo2', 'is_promo',\n",
       "       'year', 'month', 'day', 'week_of_year', 'year_week',\n",
       "       'competition_time_month', 'promo_time_week', 'competition_str'],\n",
       "      dtype='object')"
      ]
     },
     "execution_count": 32,
     "metadata": {},
     "output_type": "execute_result"
    }
   ],
   "source": [
    "#Excluindo features que não fazem sentido para modelagem\n",
    "cols_drop = ['customers', 'open', 'promo_interval', 'month_map', 'competition_open_since_year', 'competition_open_since_month', 'competition_since', 'promo_since', 'promo2_since_year', 'promo2_since_week', 'competition_distance' ]\n",
    "df3 = df3.drop( cols_drop, axis=1 )\n",
    "df3.columns"
   ]
  },
  {
   "cell_type": "code",
   "execution_count": 33,
   "id": "4cbd7a54",
   "metadata": {
    "ExecuteTime": {
     "end_time": "2021-10-22T19:05:45.440838Z",
     "start_time": "2021-10-22T19:05:45.427783Z"
    }
   },
   "outputs": [],
   "source": [
    "num_attributes_list = ['competition_str',\n",
    "                       'promo_time_week',\n",
    "                       'competition_time_month']\n",
    "cat_attributes_list = ['store',\n",
    "                       'day_of_week',\n",
    "                       'promo',\n",
    "                       'state_holiday',\n",
    "                       'school_holiday',\n",
    "                       'store_type',\n",
    "                       'assortment',\n",
    "                       'is_promo',\n",
    "                       'day',\n",
    "                       'month',\n",
    "                       'week_of_year',\n",
    "                       'year_week']"
   ]
  },
  {
   "cell_type": "markdown",
   "id": "e1815229",
   "metadata": {},
   "source": [
    "# EXPLORATORY DATA ANALYSIS"
   ]
  },
  {
   "cell_type": "code",
   "execution_count": 34,
   "id": "73b6150c",
   "metadata": {
    "ExecuteTime": {
     "end_time": "2021-10-22T19:05:45.455834Z",
     "start_time": "2021-10-22T19:05:45.441845Z"
    }
   },
   "outputs": [],
   "source": [
    "df4 = df3.copy()"
   ]
  },
  {
   "cell_type": "markdown",
   "id": "6f518e89",
   "metadata": {},
   "source": [
    "## Univariate Analysis"
   ]
  },
  {
   "cell_type": "markdown",
   "id": "e6b30dfc",
   "metadata": {},
   "source": [
    "É interessante que as variáveis tenham distribuição normal para melhor performance dos modelos de ML."
   ]
  },
  {
   "cell_type": "markdown",
   "id": "02e1a452",
   "metadata": {
    "heading_collapsed": true
   },
   "source": [
    "### Numercial Features"
   ]
  },
  {
   "cell_type": "code",
   "execution_count": 35,
   "id": "16aff822",
   "metadata": {
    "ExecuteTime": {
     "end_time": "2021-10-22T19:05:46.958863Z",
     "start_time": "2021-10-22T19:05:45.456838Z"
    },
    "hidden": true
   },
   "outputs": [
    {
     "data": {
      "image/png": "[encoded data removed]",
      "text/plain": [
       "<Figure size 1800x864 with 3 Axes>"
      ]
     },
     "metadata": {},
     "output_type": "display_data"
    }
   ],
   "source": [
    "for i, var in enumerate(num_attributes_list):\n",
    "    plt.subplot(3, 1, i+1)\n",
    "    sns.histplot(df4[var])"
   ]
  },
  {
   "cell_type": "markdown",
   "id": "9aa0a59f",
   "metadata": {},
   "source": [
    "### Target Variable - sales"
   ]
  },
  {
   "cell_type": "code",
   "execution_count": 36,
   "id": "6f288c09",
   "metadata": {
    "ExecuteTime": {
     "end_time": "2021-10-22T19:05:47.606137Z",
     "start_time": "2021-10-22T19:05:46.959869Z"
    },
    "scrolled": true
   },
   "outputs": [
    {
     "data": {
      "text/plain": [
       "<AxesSubplot:xlabel='sales', ylabel='Density'>"
      ]
     },
     "execution_count": 36,
     "metadata": {},
     "output_type": "execute_result"
    },
    {
     "data": {
      "image/png": "[encoded data removed]",
      "text/plain": [
       "<Figure size 1800x864 with 1 Axes>"
      ]
     },
     "metadata": {},
     "output_type": "display_data"
    }
   ],
   "source": [
    "sns.distplot(df4['sales'])"
   ]
  },
  {
   "cell_type": "markdown",
   "id": "3a079c77",
   "metadata": {},
   "source": [
    "### Numerical Features vs Target"
   ]
  },
  {
   "cell_type": "code",
   "execution_count": 37,
   "id": "7e2462c0",
   "metadata": {
    "ExecuteTime": {
     "end_time": "2021-10-22T19:07:14.849089Z",
     "start_time": "2021-10-22T19:07:00.420908Z"
    }
   },
   "outputs": [
    {
     "data": {
      "image/png": "[encoded data removed]",
      "text/plain": [
       "<Figure size 1800x864 with 3 Axes>"
      ]
     },
     "metadata": {},
     "output_type": "display_data"
    }
   ],
   "source": [
    "\n",
    "for i , attribute in enumerate(num_attributes_list):\n",
    "    plt.subplot(2, 2, i+1)\n",
    "    sns.regplot(attribute, 'sales', data = df4[['sales', attribute]], line_kws={'color': 'r'})"
   ]
  },
  {
   "cell_type": "markdown",
   "id": "28c3b6ca",
   "metadata": {
    "heading_collapsed": true
   },
   "source": [
    "### Categorical Features"
   ]
  },
  {
   "cell_type": "code",
   "execution_count": 38,
   "id": "e58411ef",
   "metadata": {
    "ExecuteTime": {
     "end_time": "2021-10-22T19:07:28.503013Z",
     "start_time": "2021-10-22T19:07:14.851084Z"
    },
    "hidden": true
   },
   "outputs": [
    {
     "data": {
      "image/png": "[encoded data removed]",
      "text/plain": [
       "<Figure size 1800x864 with 12 Axes>"
      ]
     },
     "metadata": {},
     "output_type": "display_data"
    }
   ],
   "source": [
    "for i , attribute in enumerate(cat_attributes_list):\n",
    "    aux = df4[['sales', attribute]].groupby(attribute).mean().reset_index()\n",
    "    plt.subplot(4, 3, i+1)\n",
    "    sns.barplot(x = attribute, y= 'sales', data = aux)\n",
    "    \n",
    "    #sns.regplot(attribute, 'sales', data = num_attributes)"
   ]
  },
  {
   "cell_type": "markdown",
   "id": "242a2855",
   "metadata": {},
   "source": [
    "## Multivariate Analysis\n"
   ]
  },
  {
   "cell_type": "markdown",
   "id": "da2644dd",
   "metadata": {},
   "source": [
    "### Numerical Attributes"
   ]
  },
  {
   "cell_type": "code",
   "execution_count": 39,
   "id": "0e03d7ff",
   "metadata": {
    "ExecuteTime": {
     "end_time": "2021-10-22T19:07:28.866838Z",
     "start_time": "2021-10-22T19:07:28.506969Z"
    }
   },
   "outputs": [
    {
     "data": {
      "text/plain": [
       "<AxesSubplot:>"
      ]
     },
     "execution_count": 39,
     "metadata": {},
     "output_type": "execute_result"
    },
    {
     "data": {
      "image/png": "[encoded data removed]",
      "text/plain": [
       "<Figure size 1800x864 with 2 Axes>"
      ]
     },
     "metadata": {},
     "output_type": "display_data"
    }
   ],
   "source": [
    "num_correlation = df4[num_attributes_list].corr(method = 'pearson')\n",
    "sns.heatmap(num_correlation, annot = True)"
   ]
  },
  {
   "cell_type": "markdown",
   "id": "d44949db",
   "metadata": {},
   "source": [
    "### Categorical Attributes"
   ]
  },
  {
   "cell_type": "code",
   "execution_count": 40,
   "id": "947c086d",
   "metadata": {
    "ExecuteTime": {
     "end_time": "2021-10-22T19:07:29.104093Z",
     "start_time": "2021-10-22T19:07:28.868836Z"
    }
   },
   "outputs": [],
   "source": [
    "aux_list = ['state_holiday', 'store_type', 'assortment']\n",
    "aux_dict = {}\n",
    "\n",
    "for var1 in aux_list:\n",
    "    a_list = []\n",
    "    for var2 in aux_list:\n",
    "        a = cramer_v(df4[var1], df4[var2])\n",
    "        a_list.append(a)\n",
    "    aux_dict[var1] = a_list\n",
    "     \n",
    "aux_df = pd.DataFrame(aux_dict)\n",
    "aux_df = aux_df.set_index(aux_df.columns)"
   ]
  },
  {
   "cell_type": "code",
   "execution_count": 41,
   "id": "de263b7e",
   "metadata": {
    "ExecuteTime": {
     "end_time": "2021-10-22T19:07:29.356547Z",
     "start_time": "2021-10-22T19:07:29.106092Z"
    }
   },
   "outputs": [
    {
     "data": {
      "text/plain": [
       "<AxesSubplot:>"
      ]
     },
     "execution_count": 41,
     "metadata": {},
     "output_type": "execute_result"
    },
    {
     "data": {
      "image/png": "[encoded data removed]",
      "text/plain": [
       "<Figure size 1800x864 with 2 Axes>"
      ]
     },
     "metadata": {},
     "output_type": "display_data"
    }
   ],
   "source": [
    "sns.heatmap( aux_df, annot = True)"
   ]
  },
  {
   "cell_type": "code",
   "execution_count": 42,
   "id": "269ae841",
   "metadata": {
    "ExecuteTime": {
     "end_time": "2021-10-22T19:07:29.372405Z",
     "start_time": "2021-10-22T19:07:29.359441Z"
    }
   },
   "outputs": [
    {
     "data": {
      "text/html": [
       "<div>\n",
       "<style scoped>\n",
       "    .dataframe tbody tr th:only-of-type {\n",
       "        vertical-align: middle;\n",
       "    }\n",
       "\n",
       "    .dataframe tbody tr th {\n",
       "        vertical-align: top;\n",
       "    }\n",
       "\n",
       "    .dataframe thead th {\n",
       "        text-align: right;\n",
       "    }\n",
       "</style>\n",
       "<table border=\"1\" class=\"dataframe\">\n",
       "  <thead>\n",
       "    <tr style=\"text-align: right;\">\n",
       "      <th></th>\n",
       "      <th>state_holiday</th>\n",
       "      <th>store_type</th>\n",
       "      <th>assortment</th>\n",
       "    </tr>\n",
       "  </thead>\n",
       "  <tbody>\n",
       "    <tr>\n",
       "      <th>16</th>\n",
       "      <td>0</td>\n",
       "      <td>a</td>\n",
       "      <td>a</td>\n",
       "    </tr>\n",
       "    <tr>\n",
       "      <th>33</th>\n",
       "      <td>0</td>\n",
       "      <td>c</td>\n",
       "      <td>a</td>\n",
       "    </tr>\n",
       "    <tr>\n",
       "      <th>50</th>\n",
       "      <td>0</td>\n",
       "      <td>a</td>\n",
       "      <td>c</td>\n",
       "    </tr>\n",
       "    <tr>\n",
       "      <th>67</th>\n",
       "      <td>0</td>\n",
       "      <td>a</td>\n",
       "      <td>c</td>\n",
       "    </tr>\n",
       "    <tr>\n",
       "      <th>84</th>\n",
       "      <td>0</td>\n",
       "      <td>b</td>\n",
       "      <td>a</td>\n",
       "    </tr>\n",
       "  </tbody>\n",
       "</table>\n",
       "</div>"
      ],
      "text/plain": [
       "   state_holiday store_type assortment\n",
       "16             0          a          a\n",
       "33             0          c          a\n",
       "50             0          a          c\n",
       "67             0          a          c\n",
       "84             0          b          a"
      ]
     },
     "execution_count": 42,
     "metadata": {},
     "output_type": "execute_result"
    }
   ],
   "source": [
    "df4[aux_list].head()"
   ]
  },
  {
   "cell_type": "code",
   "execution_count": 43,
   "id": "0f130158",
   "metadata": {
    "ExecuteTime": {
     "end_time": "2021-10-22T19:07:29.387380Z",
     "start_time": "2021-10-22T19:07:29.375399Z"
    }
   },
   "outputs": [
    {
     "data": {
      "text/html": [
       "<div>\n",
       "<style scoped>\n",
       "    .dataframe tbody tr th:only-of-type {\n",
       "        vertical-align: middle;\n",
       "    }\n",
       "\n",
       "    .dataframe tbody tr th {\n",
       "        vertical-align: top;\n",
       "    }\n",
       "\n",
       "    .dataframe thead th {\n",
       "        text-align: right;\n",
       "    }\n",
       "</style>\n",
       "<table border=\"1\" class=\"dataframe\">\n",
       "  <thead>\n",
       "    <tr style=\"text-align: right;\">\n",
       "      <th></th>\n",
       "      <th>state_holiday</th>\n",
       "      <th>store_type</th>\n",
       "      <th>assortment</th>\n",
       "    </tr>\n",
       "  </thead>\n",
       "  <tbody>\n",
       "    <tr>\n",
       "      <th>state_holiday</th>\n",
       "      <td>1.000030</td>\n",
       "      <td>0.062231</td>\n",
       "      <td>0.015566</td>\n",
       "    </tr>\n",
       "    <tr>\n",
       "      <th>store_type</th>\n",
       "      <td>0.062231</td>\n",
       "      <td>1.000030</td>\n",
       "      <td>0.179771</td>\n",
       "    </tr>\n",
       "    <tr>\n",
       "      <th>assortment</th>\n",
       "      <td>0.015566</td>\n",
       "      <td>0.179771</td>\n",
       "      <td>0.999970</td>\n",
       "    </tr>\n",
       "  </tbody>\n",
       "</table>\n",
       "</div>"
      ],
      "text/plain": [
       "               state_holiday  store_type  assortment\n",
       "state_holiday       1.000030    0.062231    0.015566\n",
       "store_type          0.062231    1.000030    0.179771\n",
       "assortment          0.015566    0.179771    0.999970"
      ]
     },
     "execution_count": 43,
     "metadata": {},
     "output_type": "execute_result"
    }
   ],
   "source": [
    "aux_df"
   ]
  },
  {
   "cell_type": "markdown",
   "id": "303c9ee0",
   "metadata": {},
   "source": [
    "# Data Preparation"
   ]
  },
  {
   "cell_type": "code",
   "execution_count": 44,
   "id": "c2502a85",
   "metadata": {
    "ExecuteTime": {
     "end_time": "2021-10-22T19:07:29.403325Z",
     "start_time": "2021-10-22T19:07:29.392352Z"
    }
   },
   "outputs": [],
   "source": [
    "df5 = df4.copy()"
   ]
  },
  {
   "cell_type": "markdown",
   "id": "6e11c7eb",
   "metadata": {},
   "source": [
    "## Normalization"
   ]
  },
  {
   "cell_type": "markdown",
   "id": "2ad259f6",
   "metadata": {},
   "source": [
    "A normalizção cabe para variáveis com distribuição normal, mas, aparentemente, não é o caso de nenhuma variável."
   ]
  },
  {
   "cell_type": "markdown",
   "id": "2fd5864c",
   "metadata": {},
   "source": [
    "## Rescaling"
   ]
  },
  {
   "cell_type": "code",
   "execution_count": 45,
   "id": "e720b880",
   "metadata": {
    "ExecuteTime": {
     "end_time": "2021-10-22T19:07:29.419281Z",
     "start_time": "2021-10-22T19:07:29.405318Z"
    }
   },
   "outputs": [
    {
     "data": {
      "text/plain": [
       "store                              int64\n",
       "day_of_week                        int64\n",
       "date                      datetime64[ns]\n",
       "sales                              int64\n",
       "promo                              int64\n",
       "state_holiday                     object\n",
       "school_holiday                     int64\n",
       "store_type                        object\n",
       "assortment                        object\n",
       "promo2                             int64\n",
       "is_promo                           int64\n",
       "year                               int64\n",
       "month                              int64\n",
       "day                                int64\n",
       "week_of_year                       int64\n",
       "year_week                         object\n",
       "competition_time_month             int64\n",
       "promo_time_week                    int64\n",
       "competition_str                  float64\n",
       "dtype: object"
      ]
     },
     "execution_count": 45,
     "metadata": {},
     "output_type": "execute_result"
    }
   ],
   "source": [
    "df5.dtypes"
   ]
  },
  {
   "cell_type": "code",
   "execution_count": 46,
   "id": "62e0012b",
   "metadata": {
    "ExecuteTime": {
     "end_time": "2021-10-22T19:15:10.025500Z",
     "start_time": "2021-10-22T19:15:09.995581Z"
    }
   },
   "outputs": [],
   "source": [
    "\n",
    "# competition_str\n",
    "rs = RobustScaler()\n",
    "mms = MinMaxScaler()\n",
    "\n",
    "df5['competition_str'] = rs.fit_transform(df5[['competition_str']])\n",
    "\n",
    "\n",
    "# competition time_month\n",
    "df5['competition_time_month'] = mms.fit_transform(df5[['competition_time_month']])\n",
    "\n",
    "# promo_time_week\n",
    "df5['promo_time_week'] = mms.fit_transform(df5[['promo_time_week']])\n",
    "\n",
    "# year\n",
    "df5['year'] = mms.fit_transform(df5[['year']])\n"
   ]
  },
  {
   "cell_type": "markdown",
   "id": "8490c203",
   "metadata": {},
   "source": [
    "## Encoding"
   ]
  },
  {
   "cell_type": "code",
   "execution_count": 47,
   "id": "94d39b74",
   "metadata": {
    "ExecuteTime": {
     "end_time": "2021-10-22T19:32:44.804129Z",
     "start_time": "2021-10-22T19:32:44.755228Z"
    }
   },
   "outputs": [],
   "source": [
    "# state_holiday - One Hot Encoding\n",
    "df5 = pd.get_dummies(df5, prefix=['state_holiday'], columns=['state_holiday'])\n",
    "\n",
    "# store_type - Label Encoding\n",
    "le = LabelEncoder()\n",
    "df5['store_type'] = le.fit_transform(df5['store_type'])\n",
    "\n",
    "# assortment - Ordinal Encoding\n",
    "assortment_dict = {'a':1,'b':2,'c':3}\n",
    "df5['assortment'] = df5['assortment'].map(assortment_dict)"
   ]
  },
  {
   "cell_type": "code",
   "execution_count": 48,
   "id": "841e5f0f",
   "metadata": {},
   "outputs": [],
   "source": [
    "# month\n",
    "\n",
    "#day\n",
    "\n",
    "# week of year\n",
    "\n",
    "# day of week"
   ]
  },
  {
   "cell_type": "code",
   "execution_count": 49,
   "id": "bb1836af",
   "metadata": {
    "ExecuteTime": {
     "end_time": "2021-10-22T19:45:57.274490Z",
     "start_time": "2021-10-22T19:45:57.239616Z"
    }
   },
   "outputs": [
    {
     "data": {
      "text/html": [
       "<div>\n",
       "<style scoped>\n",
       "    .dataframe tbody tr th:only-of-type {\n",
       "        vertical-align: middle;\n",
       "    }\n",
       "\n",
       "    .dataframe tbody tr th {\n",
       "        vertical-align: top;\n",
       "    }\n",
       "\n",
       "    .dataframe thead th {\n",
       "        text-align: right;\n",
       "    }\n",
       "</style>\n",
       "<table border=\"1\" class=\"dataframe\">\n",
       "  <thead>\n",
       "    <tr style=\"text-align: right;\">\n",
       "      <th></th>\n",
       "      <th>store</th>\n",
       "      <th>day_of_week</th>\n",
       "      <th>date</th>\n",
       "      <th>sales</th>\n",
       "      <th>promo</th>\n",
       "      <th>school_holiday</th>\n",
       "      <th>store_type</th>\n",
       "      <th>assortment</th>\n",
       "      <th>promo2</th>\n",
       "      <th>is_promo</th>\n",
       "      <th>year</th>\n",
       "      <th>month</th>\n",
       "      <th>day</th>\n",
       "      <th>week_of_year</th>\n",
       "      <th>year_week</th>\n",
       "      <th>competition_time_month</th>\n",
       "      <th>promo_time_week</th>\n",
       "      <th>competition_str</th>\n",
       "      <th>state_holiday_0</th>\n",
       "      <th>state_holiday_a</th>\n",
       "      <th>state_holiday_b</th>\n",
       "      <th>state_holiday_c</th>\n",
       "    </tr>\n",
       "  </thead>\n",
       "  <tbody>\n",
       "    <tr>\n",
       "      <th>16</th>\n",
       "      <td>17</td>\n",
       "      <td>5</td>\n",
       "      <td>2015-07-31</td>\n",
       "      <td>8430</td>\n",
       "      <td>1</td>\n",
       "      <td>1</td>\n",
       "      <td>0</td>\n",
       "      <td>1</td>\n",
       "      <td>1</td>\n",
       "      <td>1</td>\n",
       "      <td>1.0</td>\n",
       "      <td>7</td>\n",
       "      <td>31</td>\n",
       "      <td>31</td>\n",
       "      <td>2015-30</td>\n",
       "      <td>0.650655</td>\n",
       "      <td>0.892938</td>\n",
       "      <td>13.131944</td>\n",
       "      <td>1</td>\n",
       "      <td>0</td>\n",
       "      <td>0</td>\n",
       "      <td>0</td>\n",
       "    </tr>\n",
       "    <tr>\n",
       "      <th>33</th>\n",
       "      <td>34</td>\n",
       "      <td>5</td>\n",
       "      <td>2015-07-31</td>\n",
       "      <td>11144</td>\n",
       "      <td>1</td>\n",
       "      <td>1</td>\n",
       "      <td>2</td>\n",
       "      <td>1</td>\n",
       "      <td>0</td>\n",
       "      <td>0</td>\n",
       "      <td>1.0</td>\n",
       "      <td>7</td>\n",
       "      <td>31</td>\n",
       "      <td>31</td>\n",
       "      <td>2015-30</td>\n",
       "      <td>0.449782</td>\n",
       "      <td>0.287016</td>\n",
       "      <td>0.030033</td>\n",
       "      <td>1</td>\n",
       "      <td>0</td>\n",
       "      <td>0</td>\n",
       "      <td>0</td>\n",
       "    </tr>\n",
       "    <tr>\n",
       "      <th>50</th>\n",
       "      <td>51</td>\n",
       "      <td>5</td>\n",
       "      <td>2015-07-31</td>\n",
       "      <td>9198</td>\n",
       "      <td>1</td>\n",
       "      <td>0</td>\n",
       "      <td>0</td>\n",
       "      <td>3</td>\n",
       "      <td>1</td>\n",
       "      <td>1</td>\n",
       "      <td>1.0</td>\n",
       "      <td>7</td>\n",
       "      <td>31</td>\n",
       "      <td>31</td>\n",
       "      <td>2015-30</td>\n",
       "      <td>0.248908</td>\n",
       "      <td>0.813212</td>\n",
       "      <td>-0.205705</td>\n",
       "      <td>1</td>\n",
       "      <td>0</td>\n",
       "      <td>0</td>\n",
       "      <td>0</td>\n",
       "    </tr>\n",
       "    <tr>\n",
       "      <th>67</th>\n",
       "      <td>68</td>\n",
       "      <td>5</td>\n",
       "      <td>2015-07-31</td>\n",
       "      <td>11187</td>\n",
       "      <td>1</td>\n",
       "      <td>1</td>\n",
       "      <td>0</td>\n",
       "      <td>3</td>\n",
       "      <td>1</td>\n",
       "      <td>0</td>\n",
       "      <td>1.0</td>\n",
       "      <td>7</td>\n",
       "      <td>31</td>\n",
       "      <td>31</td>\n",
       "      <td>2015-30</td>\n",
       "      <td>0.144105</td>\n",
       "      <td>0.635535</td>\n",
       "      <td>2.411111</td>\n",
       "      <td>1</td>\n",
       "      <td>0</td>\n",
       "      <td>0</td>\n",
       "      <td>0</td>\n",
       "    </tr>\n",
       "    <tr>\n",
       "      <th>84</th>\n",
       "      <td>85</td>\n",
       "      <td>5</td>\n",
       "      <td>2015-07-31</td>\n",
       "      <td>7791</td>\n",
       "      <td>1</td>\n",
       "      <td>1</td>\n",
       "      <td>1</td>\n",
       "      <td>1</td>\n",
       "      <td>0</td>\n",
       "      <td>0</td>\n",
       "      <td>1.0</td>\n",
       "      <td>7</td>\n",
       "      <td>31</td>\n",
       "      <td>31</td>\n",
       "      <td>2015-30</td>\n",
       "      <td>0.340611</td>\n",
       "      <td>0.287016</td>\n",
       "      <td>0.089219</td>\n",
       "      <td>1</td>\n",
       "      <td>0</td>\n",
       "      <td>0</td>\n",
       "      <td>0</td>\n",
       "    </tr>\n",
       "  </tbody>\n",
       "</table>\n",
       "</div>"
      ],
      "text/plain": [
       "    store  day_of_week       date  sales  promo  school_holiday  store_type  assortment  promo2  is_promo  year  month  day  week_of_year year_week  competition_time_month  promo_time_week  competition_str  state_holiday_0  state_holiday_a  state_holiday_b  state_holiday_c\n",
       "16     17            5 2015-07-31   8430      1               1           0           1       1         1   1.0      7   31            31   2015-30                0.650655         0.892938        13.131944                1                0                0                0\n",
       "33     34            5 2015-07-31  11144      1               1           2           1       0         0   1.0      7   31            31   2015-30                0.449782         0.287016         0.030033                1                0                0                0\n",
       "50     51            5 2015-07-31   9198      1               0           0           3       1         1   1.0      7   31            31   2015-30                0.248908         0.813212        -0.205705                1                0                0                0\n",
       "67     68            5 2015-07-31  11187      1               1           0           3       1         0   1.0      7   31            31   2015-30                0.144105         0.635535         2.411111                1                0                0                0\n",
       "84     85            5 2015-07-31   7791      1               1           1           1       0         0   1.0      7   31            31   2015-30                0.340611         0.287016         0.089219                1                0                0                0"
      ]
     },
     "execution_count": 49,
     "metadata": {},
     "output_type": "execute_result"
    }
   ],
   "source": [
    "df5.head()"
   ]
  },
  {
   "cell_type": "markdown",
   "id": "89414cdb",
   "metadata": {},
   "source": [
    "## Transformations"
   ]
  },
  {
   "cell_type": "markdown",
   "id": "7ebcb9b0",
   "metadata": {},
   "source": [
    "### Response variable transformation"
   ]
  },
  {
   "cell_type": "code",
   "execution_count": 50,
   "id": "74fcb252",
   "metadata": {},
   "outputs": [],
   "source": [
    "df5['sales'] = np.log1p(df5['sales'])"
   ]
  },
  {
   "cell_type": "markdown",
   "id": "76f2911a",
   "metadata": {},
   "source": [
    "### Nature transformation for cyclical variables"
   ]
  },
  {
   "cell_type": "code",
   "execution_count": 51,
   "id": "d7715cd0",
   "metadata": {},
   "outputs": [],
   "source": [
    "# day of week\n",
    "df5['day_of_week_sin'] = df5['day_of_week'].apply(lambda x : np.sin(x*(2.*np.pi/7)))\n",
    "df5['day_of_week_cos'] = df5['day_of_week'].apply(lambda x : np.cos(x*(2.*np.pi/7)))\n",
    "\n",
    "# month\n",
    "df5['month_sin'] = df5['month'].apply(lambda x : np.sin(x*(2.*np.pi/12)))\n",
    "df5['month_cos'] = df5['month'].apply(lambda x : np.cos(x*(2.*np.pi/12)))\n",
    "\n",
    "# day\n",
    "df5['day_sin'] = df5['day'].apply(lambda x : np.sin(x*(2.*np.pi/30)))\n",
    "df5['day_cos'] = df5['day'].apply(lambda x : np.cos(x*(2.*np.pi/30)))\n",
    "\n",
    "# week of year\n",
    "df5['week_of_year_sin'] = df5['week_of_year'].apply(lambda x : np.sin(x*(2.*np.pi/52)))\n",
    "df5['week_of_year_cos'] = df5['week_of_year'].apply(lambda x : np.cos(x*(2.*np.pi/52)))\n"
   ]
  },
  {
   "cell_type": "code",
   "execution_count": 52,
   "id": "c675cd76",
   "metadata": {},
   "outputs": [
    {
     "data": {
      "text/html": [
       "<div>\n",
       "<style scoped>\n",
       "    .dataframe tbody tr th:only-of-type {\n",
       "        vertical-align: middle;\n",
       "    }\n",
       "\n",
       "    .dataframe tbody tr th {\n",
       "        vertical-align: top;\n",
       "    }\n",
       "\n",
       "    .dataframe thead th {\n",
       "        text-align: right;\n",
       "    }\n",
       "</style>\n",
       "<table border=\"1\" class=\"dataframe\">\n",
       "  <thead>\n",
       "    <tr style=\"text-align: right;\">\n",
       "      <th></th>\n",
       "      <th>store</th>\n",
       "      <th>day_of_week</th>\n",
       "      <th>date</th>\n",
       "      <th>sales</th>\n",
       "      <th>promo</th>\n",
       "      <th>school_holiday</th>\n",
       "      <th>store_type</th>\n",
       "      <th>assortment</th>\n",
       "      <th>promo2</th>\n",
       "      <th>is_promo</th>\n",
       "      <th>year</th>\n",
       "      <th>month</th>\n",
       "      <th>day</th>\n",
       "      <th>week_of_year</th>\n",
       "      <th>year_week</th>\n",
       "      <th>competition_time_month</th>\n",
       "      <th>promo_time_week</th>\n",
       "      <th>competition_str</th>\n",
       "      <th>state_holiday_0</th>\n",
       "      <th>state_holiday_a</th>\n",
       "      <th>state_holiday_b</th>\n",
       "      <th>state_holiday_c</th>\n",
       "      <th>month_sin</th>\n",
       "      <th>month_cos</th>\n",
       "    </tr>\n",
       "  </thead>\n",
       "  <tbody>\n",
       "    <tr>\n",
       "      <th>16</th>\n",
       "      <td>17</td>\n",
       "      <td>5</td>\n",
       "      <td>2015-07-31</td>\n",
       "      <td>9.039671</td>\n",
       "      <td>1</td>\n",
       "      <td>1</td>\n",
       "      <td>0</td>\n",
       "      <td>1</td>\n",
       "      <td>1</td>\n",
       "      <td>1</td>\n",
       "      <td>1.0</td>\n",
       "      <td>7</td>\n",
       "      <td>31</td>\n",
       "      <td>31</td>\n",
       "      <td>2015-30</td>\n",
       "      <td>0.650655</td>\n",
       "      <td>0.892938</td>\n",
       "      <td>13.131944</td>\n",
       "      <td>1</td>\n",
       "      <td>0</td>\n",
       "      <td>0</td>\n",
       "      <td>0</td>\n",
       "      <td>-0.5</td>\n",
       "      <td>-0.866025</td>\n",
       "    </tr>\n",
       "    <tr>\n",
       "      <th>33</th>\n",
       "      <td>34</td>\n",
       "      <td>5</td>\n",
       "      <td>2015-07-31</td>\n",
       "      <td>9.318746</td>\n",
       "      <td>1</td>\n",
       "      <td>1</td>\n",
       "      <td>2</td>\n",
       "      <td>1</td>\n",
       "      <td>0</td>\n",
       "      <td>0</td>\n",
       "      <td>1.0</td>\n",
       "      <td>7</td>\n",
       "      <td>31</td>\n",
       "      <td>31</td>\n",
       "      <td>2015-30</td>\n",
       "      <td>0.449782</td>\n",
       "      <td>0.287016</td>\n",
       "      <td>0.030033</td>\n",
       "      <td>1</td>\n",
       "      <td>0</td>\n",
       "      <td>0</td>\n",
       "      <td>0</td>\n",
       "      <td>-0.5</td>\n",
       "      <td>-0.866025</td>\n",
       "    </tr>\n",
       "    <tr>\n",
       "      <th>50</th>\n",
       "      <td>51</td>\n",
       "      <td>5</td>\n",
       "      <td>2015-07-31</td>\n",
       "      <td>9.126850</td>\n",
       "      <td>1</td>\n",
       "      <td>0</td>\n",
       "      <td>0</td>\n",
       "      <td>3</td>\n",
       "      <td>1</td>\n",
       "      <td>1</td>\n",
       "      <td>1.0</td>\n",
       "      <td>7</td>\n",
       "      <td>31</td>\n",
       "      <td>31</td>\n",
       "      <td>2015-30</td>\n",
       "      <td>0.248908</td>\n",
       "      <td>0.813212</td>\n",
       "      <td>-0.205705</td>\n",
       "      <td>1</td>\n",
       "      <td>0</td>\n",
       "      <td>0</td>\n",
       "      <td>0</td>\n",
       "      <td>-0.5</td>\n",
       "      <td>-0.866025</td>\n",
       "    </tr>\n",
       "    <tr>\n",
       "      <th>67</th>\n",
       "      <td>68</td>\n",
       "      <td>5</td>\n",
       "      <td>2015-07-31</td>\n",
       "      <td>9.322597</td>\n",
       "      <td>1</td>\n",
       "      <td>1</td>\n",
       "      <td>0</td>\n",
       "      <td>3</td>\n",
       "      <td>1</td>\n",
       "      <td>0</td>\n",
       "      <td>1.0</td>\n",
       "      <td>7</td>\n",
       "      <td>31</td>\n",
       "      <td>31</td>\n",
       "      <td>2015-30</td>\n",
       "      <td>0.144105</td>\n",
       "      <td>0.635535</td>\n",
       "      <td>2.411111</td>\n",
       "      <td>1</td>\n",
       "      <td>0</td>\n",
       "      <td>0</td>\n",
       "      <td>0</td>\n",
       "      <td>-0.5</td>\n",
       "      <td>-0.866025</td>\n",
       "    </tr>\n",
       "    <tr>\n",
       "      <th>84</th>\n",
       "      <td>85</td>\n",
       "      <td>5</td>\n",
       "      <td>2015-07-31</td>\n",
       "      <td>8.960853</td>\n",
       "      <td>1</td>\n",
       "      <td>1</td>\n",
       "      <td>1</td>\n",
       "      <td>1</td>\n",
       "      <td>0</td>\n",
       "      <td>0</td>\n",
       "      <td>1.0</td>\n",
       "      <td>7</td>\n",
       "      <td>31</td>\n",
       "      <td>31</td>\n",
       "      <td>2015-30</td>\n",
       "      <td>0.340611</td>\n",
       "      <td>0.287016</td>\n",
       "      <td>0.089219</td>\n",
       "      <td>1</td>\n",
       "      <td>0</td>\n",
       "      <td>0</td>\n",
       "      <td>0</td>\n",
       "      <td>-0.5</td>\n",
       "      <td>-0.866025</td>\n",
       "    </tr>\n",
       "  </tbody>\n",
       "</table>\n",
       "</div>"
      ],
      "text/plain": [
       "    store  day_of_week       date     sales  promo  school_holiday  store_type  assortment  promo2  is_promo  year  month  day  week_of_year year_week  competition_time_month  promo_time_week  competition_str  state_holiday_0  state_holiday_a  state_holiday_b  state_holiday_c  month_sin  month_cos\n",
       "16     17            5 2015-07-31  9.039671      1               1           0           1       1         1   1.0      7   31            31   2015-30                0.650655         0.892938        13.131944                1                0                0                0       -0.5  -0.866025\n",
       "33     34            5 2015-07-31  9.318746      1               1           2           1       0         0   1.0      7   31            31   2015-30                0.449782         0.287016         0.030033                1                0                0                0       -0.5  -0.866025\n",
       "50     51            5 2015-07-31  9.126850      1               0           0           3       1         1   1.0      7   31            31   2015-30                0.248908         0.813212        -0.205705                1                0                0                0       -0.5  -0.866025\n",
       "67     68            5 2015-07-31  9.322597      1               1           0           3       1         0   1.0      7   31            31   2015-30                0.144105         0.635535         2.411111                1                0                0                0       -0.5  -0.866025\n",
       "84     85            5 2015-07-31  8.960853      1               1           1           1       0         0   1.0      7   31            31   2015-30                0.340611         0.287016         0.089219                1                0                0                0       -0.5  -0.866025"
      ]
     },
     "execution_count": 52,
     "metadata": {},
     "output_type": "execute_result"
    }
   ],
   "source": [
    "df5.head()"
   ]
  },
  {
   "cell_type": "code",
   "execution_count": null,
   "id": "9aa3485c",
   "metadata": {},
   "outputs": [],
   "source": []
  }
 ],
 "metadata": {
  "kernelspec": {
   "display_name": "Python 3 (ipykernel)",
   "language": "python",
   "name": "python3"
  },
  "language_info": {
   "codemirror_mode": {
    "name": "ipython",
    "version": 3
   },
   "file_extension": ".py",
   "mimetype": "text/x-python",
   "name": "python",
   "nbconvert_exporter": "python",
   "pygments_lexer": "ipython3",
   "version": "3.9.6"
  },
  "toc": {
   "base_numbering": 1,
   "nav_menu": {},
   "number_sections": true,
   "sideBar": true,
   "skip_h1_title": false,
   "title_cell": "Table of Contents",
   "title_sidebar": "Contents",
   "toc_cell": false,
   "toc_position": {},
   "toc_section_display": true,
   "toc_window_display": false
  }
 },
 "nbformat": 4,
 "nbformat_minor": 5
}
